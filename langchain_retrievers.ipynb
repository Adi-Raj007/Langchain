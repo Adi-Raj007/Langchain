{
  "nbformat": 4,
  "nbformat_minor": 0,
  "metadata": {
    "colab": {
      "provenance": [],
      "mount_file_id": "1xi90eKxd5FinopfhjWQ7s-eyukYjyYhZ",
      "authorship_tag": "ABX9TyN5yE0/4q8jfphmLjHNxLLs",
      "include_colab_link": true
    },
    "kernelspec": {
      "name": "python3",
      "display_name": "Python 3"
    },
    "language_info": {
      "name": "python"
    }
  },
  "cells": [
    {
      "cell_type": "markdown",
      "metadata": {
        "id": "view-in-github",
        "colab_type": "text"
      },
      "source": [
        "<a href=\"https://colab.research.google.com/github/Adi-Raj007/Langchain/blob/google-colab/langchain_retrievers.ipynb\" target=\"_parent\"><img src=\"https://colab.research.google.com/assets/colab-badge.svg\" alt=\"Open In Colab\"/></a>"
      ]
    },
    {
      "cell_type": "code",
      "source": [
        "# from google.colab import drive\n",
        "# drive.mount('/content/drive')\n",
        "requirements_path=\"/content/drive/MyDrive/langchain/requirements.txt\"\n",
        "!pip install -r {requirements_path}"
      ],
      "metadata": {
        "colab": {
          "base_uri": "https://localhost:8080/"
        },
        "collapsed": true,
        "id": "_1cfpK0btGIr",
        "outputId": "3faffdb9-c307-4fa1-a6b7-8215686052ff"
      },
      "execution_count": null,
      "outputs": [
        {
          "output_type": "stream",
          "name": "stdout",
          "text": [
            "Requirement already satisfied: langchain in /usr/local/lib/python3.11/dist-packages (from -r /content/drive/MyDrive/langchain/requirements.txt (line 2)) (0.3.24)\n",
            "Requirement already satisfied: langchain-core in /usr/local/lib/python3.11/dist-packages (from -r /content/drive/MyDrive/langchain/requirements.txt (line 3)) (0.3.55)\n",
            "Requirement already satisfied: langchain-community in /usr/local/lib/python3.11/dist-packages (from -r /content/drive/MyDrive/langchain/requirements.txt (line 4)) (0.3.22)\n",
            "Requirement already satisfied: langchain-openai in /usr/local/lib/python3.11/dist-packages (from -r /content/drive/MyDrive/langchain/requirements.txt (line 7)) (0.3.14)\n",
            "Requirement already satisfied: openai in /usr/local/lib/python3.11/dist-packages (from -r /content/drive/MyDrive/langchain/requirements.txt (line 8)) (1.75.0)\n",
            "Requirement already satisfied: langchain-anthropic in /usr/local/lib/python3.11/dist-packages (from -r /content/drive/MyDrive/langchain/requirements.txt (line 11)) (0.3.12)\n",
            "Requirement already satisfied: langchain-google-genai in /usr/local/lib/python3.11/dist-packages (from -r /content/drive/MyDrive/langchain/requirements.txt (line 14)) (2.0.10)\n",
            "Requirement already satisfied: google-generativeai in /usr/local/lib/python3.11/dist-packages (from -r /content/drive/MyDrive/langchain/requirements.txt (line 15)) (0.8.5)\n",
            "Requirement already satisfied: langchain-huggingface in /usr/local/lib/python3.11/dist-packages (from -r /content/drive/MyDrive/langchain/requirements.txt (line 18)) (0.1.2)\n",
            "Requirement already satisfied: transformers in /usr/local/lib/python3.11/dist-packages (from -r /content/drive/MyDrive/langchain/requirements.txt (line 19)) (4.51.3)\n",
            "Requirement already satisfied: huggingface-hub in /usr/local/lib/python3.11/dist-packages (from -r /content/drive/MyDrive/langchain/requirements.txt (line 20)) (0.30.2)\n",
            "Requirement already satisfied: python-dotenv in /usr/local/lib/python3.11/dist-packages (from -r /content/drive/MyDrive/langchain/requirements.txt (line 23)) (1.1.0)\n",
            "Requirement already satisfied: numpy in /usr/local/lib/python3.11/dist-packages (from -r /content/drive/MyDrive/langchain/requirements.txt (line 26)) (2.0.2)\n",
            "Requirement already satisfied: scikit-learn in /usr/local/lib/python3.11/dist-packages (from -r /content/drive/MyDrive/langchain/requirements.txt (line 27)) (1.6.1)\n",
            "Requirement already satisfied: langchain-groq in /usr/local/lib/python3.11/dist-packages (from -r /content/drive/MyDrive/langchain/requirements.txt (line 29)) (0.3.2)\n",
            "Requirement already satisfied: streamlit in /usr/local/lib/python3.11/dist-packages (from -r /content/drive/MyDrive/langchain/requirements.txt (line 30)) (1.44.1)\n",
            "Requirement already satisfied: pydantic in /usr/local/lib/python3.11/dist-packages (from -r /content/drive/MyDrive/langchain/requirements.txt (line 31)) (2.11.3)\n",
            "Requirement already satisfied: chromadb in /usr/local/lib/python3.11/dist-packages (from -r /content/drive/MyDrive/langchain/requirements.txt (line 32)) (1.0.6)\n",
            "Requirement already satisfied: sentence-transformers in /usr/local/lib/python3.11/dist-packages (from -r /content/drive/MyDrive/langchain/requirements.txt (line 33)) (3.4.1)\n",
            "Requirement already satisfied: langchain-text-splitters<1.0.0,>=0.3.8 in /usr/local/lib/python3.11/dist-packages (from langchain->-r /content/drive/MyDrive/langchain/requirements.txt (line 2)) (0.3.8)\n",
            "Requirement already satisfied: langsmith<0.4,>=0.1.17 in /usr/local/lib/python3.11/dist-packages (from langchain->-r /content/drive/MyDrive/langchain/requirements.txt (line 2)) (0.3.33)\n",
            "Requirement already satisfied: SQLAlchemy<3,>=1.4 in /usr/local/lib/python3.11/dist-packages (from langchain->-r /content/drive/MyDrive/langchain/requirements.txt (line 2)) (2.0.40)\n",
            "Requirement already satisfied: requests<3,>=2 in /usr/local/lib/python3.11/dist-packages (from langchain->-r /content/drive/MyDrive/langchain/requirements.txt (line 2)) (2.32.3)\n",
            "Requirement already satisfied: PyYAML>=5.3 in /usr/local/lib/python3.11/dist-packages (from langchain->-r /content/drive/MyDrive/langchain/requirements.txt (line 2)) (6.0.2)\n",
            "Requirement already satisfied: tenacity!=8.4.0,<10.0.0,>=8.1.0 in /usr/local/lib/python3.11/dist-packages (from langchain-core->-r /content/drive/MyDrive/langchain/requirements.txt (line 3)) (9.1.2)\n",
            "Requirement already satisfied: jsonpatch<2.0,>=1.33 in /usr/local/lib/python3.11/dist-packages (from langchain-core->-r /content/drive/MyDrive/langchain/requirements.txt (line 3)) (1.33)\n",
            "Requirement already satisfied: packaging<25,>=23.2 in /usr/local/lib/python3.11/dist-packages (from langchain-core->-r /content/drive/MyDrive/langchain/requirements.txt (line 3)) (24.2)\n",
            "Requirement already satisfied: typing-extensions>=4.7 in /usr/local/lib/python3.11/dist-packages (from langchain-core->-r /content/drive/MyDrive/langchain/requirements.txt (line 3)) (4.13.2)\n",
            "Requirement already satisfied: aiohttp<4.0.0,>=3.8.3 in /usr/local/lib/python3.11/dist-packages (from langchain-community->-r /content/drive/MyDrive/langchain/requirements.txt (line 4)) (3.11.15)\n",
            "Requirement already satisfied: dataclasses-json<0.7,>=0.5.7 in /usr/local/lib/python3.11/dist-packages (from langchain-community->-r /content/drive/MyDrive/langchain/requirements.txt (line 4)) (0.6.7)\n",
            "Requirement already satisfied: pydantic-settings<3.0.0,>=2.4.0 in /usr/local/lib/python3.11/dist-packages (from langchain-community->-r /content/drive/MyDrive/langchain/requirements.txt (line 4)) (2.9.1)\n",
            "Requirement already satisfied: httpx-sse<1.0.0,>=0.4.0 in /usr/local/lib/python3.11/dist-packages (from langchain-community->-r /content/drive/MyDrive/langchain/requirements.txt (line 4)) (0.4.0)\n",
            "Requirement already satisfied: tiktoken<1,>=0.7 in /usr/local/lib/python3.11/dist-packages (from langchain-openai->-r /content/drive/MyDrive/langchain/requirements.txt (line 7)) (0.9.0)\n",
            "Requirement already satisfied: anyio<5,>=3.5.0 in /usr/local/lib/python3.11/dist-packages (from openai->-r /content/drive/MyDrive/langchain/requirements.txt (line 8)) (4.9.0)\n",
            "Requirement already satisfied: distro<2,>=1.7.0 in /usr/local/lib/python3.11/dist-packages (from openai->-r /content/drive/MyDrive/langchain/requirements.txt (line 8)) (1.9.0)\n",
            "Requirement already satisfied: httpx<1,>=0.23.0 in /usr/local/lib/python3.11/dist-packages (from openai->-r /content/drive/MyDrive/langchain/requirements.txt (line 8)) (0.28.1)\n",
            "Requirement already satisfied: jiter<1,>=0.4.0 in /usr/local/lib/python3.11/dist-packages (from openai->-r /content/drive/MyDrive/langchain/requirements.txt (line 8)) (0.9.0)\n",
            "Requirement already satisfied: sniffio in /usr/local/lib/python3.11/dist-packages (from openai->-r /content/drive/MyDrive/langchain/requirements.txt (line 8)) (1.3.1)\n",
            "Requirement already satisfied: tqdm>4 in /usr/local/lib/python3.11/dist-packages (from openai->-r /content/drive/MyDrive/langchain/requirements.txt (line 8)) (4.67.1)\n",
            "Requirement already satisfied: anthropic<1,>=0.49.0 in /usr/local/lib/python3.11/dist-packages (from langchain-anthropic->-r /content/drive/MyDrive/langchain/requirements.txt (line 11)) (0.50.0)\n",
            "Requirement already satisfied: filetype<2.0.0,>=1.2.0 in /usr/local/lib/python3.11/dist-packages (from langchain-google-genai->-r /content/drive/MyDrive/langchain/requirements.txt (line 14)) (1.2.0)\n",
            "Requirement already satisfied: google-ai-generativelanguage==0.6.15 in /usr/local/lib/python3.11/dist-packages (from google-generativeai->-r /content/drive/MyDrive/langchain/requirements.txt (line 15)) (0.6.15)\n",
            "Requirement already satisfied: google-api-core in /usr/local/lib/python3.11/dist-packages (from google-generativeai->-r /content/drive/MyDrive/langchain/requirements.txt (line 15)) (2.24.2)\n",
            "Requirement already satisfied: google-api-python-client in /usr/local/lib/python3.11/dist-packages (from google-generativeai->-r /content/drive/MyDrive/langchain/requirements.txt (line 15)) (2.164.0)\n",
            "Requirement already satisfied: google-auth>=2.15.0 in /usr/local/lib/python3.11/dist-packages (from google-generativeai->-r /content/drive/MyDrive/langchain/requirements.txt (line 15)) (2.38.0)\n",
            "Requirement already satisfied: protobuf in /usr/local/lib/python3.11/dist-packages (from google-generativeai->-r /content/drive/MyDrive/langchain/requirements.txt (line 15)) (5.29.4)\n",
            "Requirement already satisfied: proto-plus<2.0.0dev,>=1.22.3 in /usr/local/lib/python3.11/dist-packages (from google-ai-generativelanguage==0.6.15->google-generativeai->-r /content/drive/MyDrive/langchain/requirements.txt (line 15)) (1.26.1)\n",
            "Requirement already satisfied: tokenizers>=0.19.1 in /usr/local/lib/python3.11/dist-packages (from langchain-huggingface->-r /content/drive/MyDrive/langchain/requirements.txt (line 18)) (0.21.1)\n",
            "Requirement already satisfied: filelock in /usr/local/lib/python3.11/dist-packages (from transformers->-r /content/drive/MyDrive/langchain/requirements.txt (line 19)) (3.18.0)\n",
            "Requirement already satisfied: regex!=2019.12.17 in /usr/local/lib/python3.11/dist-packages (from transformers->-r /content/drive/MyDrive/langchain/requirements.txt (line 19)) (2024.11.6)\n",
            "Requirement already satisfied: safetensors>=0.4.3 in /usr/local/lib/python3.11/dist-packages (from transformers->-r /content/drive/MyDrive/langchain/requirements.txt (line 19)) (0.5.3)\n",
            "Requirement already satisfied: fsspec>=2023.5.0 in /usr/local/lib/python3.11/dist-packages (from huggingface-hub->-r /content/drive/MyDrive/langchain/requirements.txt (line 20)) (2025.3.2)\n",
            "Requirement already satisfied: scipy>=1.6.0 in /usr/local/lib/python3.11/dist-packages (from scikit-learn->-r /content/drive/MyDrive/langchain/requirements.txt (line 27)) (1.14.1)\n",
            "Requirement already satisfied: joblib>=1.2.0 in /usr/local/lib/python3.11/dist-packages (from scikit-learn->-r /content/drive/MyDrive/langchain/requirements.txt (line 27)) (1.4.2)\n",
            "Requirement already satisfied: threadpoolctl>=3.1.0 in /usr/local/lib/python3.11/dist-packages (from scikit-learn->-r /content/drive/MyDrive/langchain/requirements.txt (line 27)) (3.6.0)\n",
            "Requirement already satisfied: groq<1,>=0.4.1 in /usr/local/lib/python3.11/dist-packages (from langchain-groq->-r /content/drive/MyDrive/langchain/requirements.txt (line 29)) (0.23.0)\n",
            "Requirement already satisfied: altair<6,>=4.0 in /usr/local/lib/python3.11/dist-packages (from streamlit->-r /content/drive/MyDrive/langchain/requirements.txt (line 30)) (5.5.0)\n",
            "Requirement already satisfied: blinker<2,>=1.0.0 in /usr/local/lib/python3.11/dist-packages (from streamlit->-r /content/drive/MyDrive/langchain/requirements.txt (line 30)) (1.9.0)\n",
            "Requirement already satisfied: cachetools<6,>=4.0 in /usr/local/lib/python3.11/dist-packages (from streamlit->-r /content/drive/MyDrive/langchain/requirements.txt (line 30)) (5.5.2)\n",
            "Requirement already satisfied: click<9,>=7.0 in /usr/local/lib/python3.11/dist-packages (from streamlit->-r /content/drive/MyDrive/langchain/requirements.txt (line 30)) (8.1.8)\n",
            "Requirement already satisfied: pandas<3,>=1.4.0 in /usr/local/lib/python3.11/dist-packages (from streamlit->-r /content/drive/MyDrive/langchain/requirements.txt (line 30)) (2.2.2)\n",
            "Requirement already satisfied: pillow<12,>=7.1.0 in /usr/local/lib/python3.11/dist-packages (from streamlit->-r /content/drive/MyDrive/langchain/requirements.txt (line 30)) (11.1.0)\n",
            "Requirement already satisfied: pyarrow>=7.0 in /usr/local/lib/python3.11/dist-packages (from streamlit->-r /content/drive/MyDrive/langchain/requirements.txt (line 30)) (18.1.0)\n",
            "Requirement already satisfied: toml<2,>=0.10.1 in /usr/local/lib/python3.11/dist-packages (from streamlit->-r /content/drive/MyDrive/langchain/requirements.txt (line 30)) (0.10.2)\n",
            "Requirement already satisfied: watchdog<7,>=2.1.5 in /usr/local/lib/python3.11/dist-packages (from streamlit->-r /content/drive/MyDrive/langchain/requirements.txt (line 30)) (6.0.0)\n",
            "Requirement already satisfied: gitpython!=3.1.19,<4,>=3.0.7 in /usr/local/lib/python3.11/dist-packages (from streamlit->-r /content/drive/MyDrive/langchain/requirements.txt (line 30)) (3.1.44)\n",
            "Requirement already satisfied: pydeck<1,>=0.8.0b4 in /usr/local/lib/python3.11/dist-packages (from streamlit->-r /content/drive/MyDrive/langchain/requirements.txt (line 30)) (0.9.1)\n",
            "Requirement already satisfied: tornado<7,>=6.0.3 in /usr/local/lib/python3.11/dist-packages (from streamlit->-r /content/drive/MyDrive/langchain/requirements.txt (line 30)) (6.4.2)\n",
            "Requirement already satisfied: annotated-types>=0.6.0 in /usr/local/lib/python3.11/dist-packages (from pydantic->-r /content/drive/MyDrive/langchain/requirements.txt (line 31)) (0.7.0)\n",
            "Requirement already satisfied: pydantic-core==2.33.1 in /usr/local/lib/python3.11/dist-packages (from pydantic->-r /content/drive/MyDrive/langchain/requirements.txt (line 31)) (2.33.1)\n",
            "Requirement already satisfied: typing-inspection>=0.4.0 in /usr/local/lib/python3.11/dist-packages (from pydantic->-r /content/drive/MyDrive/langchain/requirements.txt (line 31)) (0.4.0)\n",
            "Requirement already satisfied: build>=1.0.3 in /usr/local/lib/python3.11/dist-packages (from chromadb->-r /content/drive/MyDrive/langchain/requirements.txt (line 32)) (1.2.2.post1)\n",
            "Requirement already satisfied: chroma-hnswlib==0.7.6 in /usr/local/lib/python3.11/dist-packages (from chromadb->-r /content/drive/MyDrive/langchain/requirements.txt (line 32)) (0.7.6)\n",
            "Requirement already satisfied: fastapi==0.115.9 in /usr/local/lib/python3.11/dist-packages (from chromadb->-r /content/drive/MyDrive/langchain/requirements.txt (line 32)) (0.115.9)\n",
            "Requirement already satisfied: uvicorn>=0.18.3 in /usr/local/lib/python3.11/dist-packages (from uvicorn[standard]>=0.18.3->chromadb->-r /content/drive/MyDrive/langchain/requirements.txt (line 32)) (0.34.2)\n",
            "Requirement already satisfied: posthog>=2.4.0 in /usr/local/lib/python3.11/dist-packages (from chromadb->-r /content/drive/MyDrive/langchain/requirements.txt (line 32)) (4.0.0)\n",
            "Requirement already satisfied: onnxruntime>=1.14.1 in /usr/local/lib/python3.11/dist-packages (from chromadb->-r /content/drive/MyDrive/langchain/requirements.txt (line 32)) (1.21.1)\n",
            "Requirement already satisfied: opentelemetry-api>=1.2.0 in /usr/local/lib/python3.11/dist-packages (from chromadb->-r /content/drive/MyDrive/langchain/requirements.txt (line 32)) (1.32.1)\n",
            "Requirement already satisfied: opentelemetry-exporter-otlp-proto-grpc>=1.2.0 in /usr/local/lib/python3.11/dist-packages (from chromadb->-r /content/drive/MyDrive/langchain/requirements.txt (line 32)) (1.32.1)\n",
            "Requirement already satisfied: opentelemetry-instrumentation-fastapi>=0.41b0 in /usr/local/lib/python3.11/dist-packages (from chromadb->-r /content/drive/MyDrive/langchain/requirements.txt (line 32)) (0.53b1)\n",
            "Requirement already satisfied: opentelemetry-sdk>=1.2.0 in /usr/local/lib/python3.11/dist-packages (from chromadb->-r /content/drive/MyDrive/langchain/requirements.txt (line 32)) (1.32.1)\n",
            "Requirement already satisfied: pypika>=0.48.9 in /usr/local/lib/python3.11/dist-packages (from chromadb->-r /content/drive/MyDrive/langchain/requirements.txt (line 32)) (0.48.9)\n",
            "Requirement already satisfied: overrides>=7.3.1 in /usr/local/lib/python3.11/dist-packages (from chromadb->-r /content/drive/MyDrive/langchain/requirements.txt (line 32)) (7.7.0)\n",
            "Requirement already satisfied: importlib-resources in /usr/local/lib/python3.11/dist-packages (from chromadb->-r /content/drive/MyDrive/langchain/requirements.txt (line 32)) (6.5.2)\n",
            "Requirement already satisfied: grpcio>=1.58.0 in /usr/local/lib/python3.11/dist-packages (from chromadb->-r /content/drive/MyDrive/langchain/requirements.txt (line 32)) (1.71.0)\n",
            "Requirement already satisfied: bcrypt>=4.0.1 in /usr/local/lib/python3.11/dist-packages (from chromadb->-r /content/drive/MyDrive/langchain/requirements.txt (line 32)) (4.3.0)\n",
            "Requirement already satisfied: typer>=0.9.0 in /usr/local/lib/python3.11/dist-packages (from chromadb->-r /content/drive/MyDrive/langchain/requirements.txt (line 32)) (0.15.2)\n",
            "Requirement already satisfied: kubernetes>=28.1.0 in /usr/local/lib/python3.11/dist-packages (from chromadb->-r /content/drive/MyDrive/langchain/requirements.txt (line 32)) (32.0.1)\n",
            "Requirement already satisfied: mmh3>=4.0.1 in /usr/local/lib/python3.11/dist-packages (from chromadb->-r /content/drive/MyDrive/langchain/requirements.txt (line 32)) (5.1.0)\n",
            "Requirement already satisfied: orjson>=3.9.12 in /usr/local/lib/python3.11/dist-packages (from chromadb->-r /content/drive/MyDrive/langchain/requirements.txt (line 32)) (3.10.16)\n",
            "Requirement already satisfied: rich>=10.11.0 in /usr/local/lib/python3.11/dist-packages (from chromadb->-r /content/drive/MyDrive/langchain/requirements.txt (line 32)) (13.9.4)\n",
            "Requirement already satisfied: jsonschema>=4.19.0 in /usr/local/lib/python3.11/dist-packages (from chromadb->-r /content/drive/MyDrive/langchain/requirements.txt (line 32)) (4.23.0)\n",
            "Requirement already satisfied: starlette<0.46.0,>=0.40.0 in /usr/local/lib/python3.11/dist-packages (from fastapi==0.115.9->chromadb->-r /content/drive/MyDrive/langchain/requirements.txt (line 32)) (0.45.3)\n",
            "Requirement already satisfied: torch>=1.11.0 in /usr/local/lib/python3.11/dist-packages (from sentence-transformers->-r /content/drive/MyDrive/langchain/requirements.txt (line 33)) (2.6.0+cu124)\n",
            "Requirement already satisfied: aiohappyeyeballs>=2.3.0 in /usr/local/lib/python3.11/dist-packages (from aiohttp<4.0.0,>=3.8.3->langchain-community->-r /content/drive/MyDrive/langchain/requirements.txt (line 4)) (2.6.1)\n",
            "Requirement already satisfied: aiosignal>=1.1.2 in /usr/local/lib/python3.11/dist-packages (from aiohttp<4.0.0,>=3.8.3->langchain-community->-r /content/drive/MyDrive/langchain/requirements.txt (line 4)) (1.3.2)\n",
            "Requirement already satisfied: attrs>=17.3.0 in /usr/local/lib/python3.11/dist-packages (from aiohttp<4.0.0,>=3.8.3->langchain-community->-r /content/drive/MyDrive/langchain/requirements.txt (line 4)) (25.3.0)\n",
            "Requirement already satisfied: frozenlist>=1.1.1 in /usr/local/lib/python3.11/dist-packages (from aiohttp<4.0.0,>=3.8.3->langchain-community->-r /content/drive/MyDrive/langchain/requirements.txt (line 4)) (1.6.0)\n",
            "Requirement already satisfied: multidict<7.0,>=4.5 in /usr/local/lib/python3.11/dist-packages (from aiohttp<4.0.0,>=3.8.3->langchain-community->-r /content/drive/MyDrive/langchain/requirements.txt (line 4)) (6.4.3)\n",
            "Requirement already satisfied: propcache>=0.2.0 in /usr/local/lib/python3.11/dist-packages (from aiohttp<4.0.0,>=3.8.3->langchain-community->-r /content/drive/MyDrive/langchain/requirements.txt (line 4)) (0.3.1)\n",
            "Requirement already satisfied: yarl<2.0,>=1.17.0 in /usr/local/lib/python3.11/dist-packages (from aiohttp<4.0.0,>=3.8.3->langchain-community->-r /content/drive/MyDrive/langchain/requirements.txt (line 4)) (1.20.0)\n",
            "Requirement already satisfied: jinja2 in /usr/local/lib/python3.11/dist-packages (from altair<6,>=4.0->streamlit->-r /content/drive/MyDrive/langchain/requirements.txt (line 30)) (3.1.6)\n",
            "Requirement already satisfied: narwhals>=1.14.2 in /usr/local/lib/python3.11/dist-packages (from altair<6,>=4.0->streamlit->-r /content/drive/MyDrive/langchain/requirements.txt (line 30)) (1.35.0)\n",
            "Requirement already satisfied: idna>=2.8 in /usr/local/lib/python3.11/dist-packages (from anyio<5,>=3.5.0->openai->-r /content/drive/MyDrive/langchain/requirements.txt (line 8)) (3.10)\n",
            "Requirement already satisfied: pyproject_hooks in /usr/local/lib/python3.11/dist-packages (from build>=1.0.3->chromadb->-r /content/drive/MyDrive/langchain/requirements.txt (line 32)) (1.2.0)\n",
            "Requirement already satisfied: marshmallow<4.0.0,>=3.18.0 in /usr/local/lib/python3.11/dist-packages (from dataclasses-json<0.7,>=0.5.7->langchain-community->-r /content/drive/MyDrive/langchain/requirements.txt (line 4)) (3.26.1)\n",
            "Requirement already satisfied: typing-inspect<1,>=0.4.0 in /usr/local/lib/python3.11/dist-packages (from dataclasses-json<0.7,>=0.5.7->langchain-community->-r /content/drive/MyDrive/langchain/requirements.txt (line 4)) (0.9.0)\n",
            "Requirement already satisfied: gitdb<5,>=4.0.1 in /usr/local/lib/python3.11/dist-packages (from gitpython!=3.1.19,<4,>=3.0.7->streamlit->-r /content/drive/MyDrive/langchain/requirements.txt (line 30)) (4.0.12)\n",
            "Requirement already satisfied: googleapis-common-protos<2.0.0,>=1.56.2 in /usr/local/lib/python3.11/dist-packages (from google-api-core->google-generativeai->-r /content/drive/MyDrive/langchain/requirements.txt (line 15)) (1.70.0)\n",
            "Requirement already satisfied: pyasn1-modules>=0.2.1 in /usr/local/lib/python3.11/dist-packages (from google-auth>=2.15.0->google-generativeai->-r /content/drive/MyDrive/langchain/requirements.txt (line 15)) (0.4.2)\n",
            "Requirement already satisfied: rsa<5,>=3.1.4 in /usr/local/lib/python3.11/dist-packages (from google-auth>=2.15.0->google-generativeai->-r /content/drive/MyDrive/langchain/requirements.txt (line 15)) (4.9.1)\n",
            "Requirement already satisfied: certifi in /usr/local/lib/python3.11/dist-packages (from httpx<1,>=0.23.0->openai->-r /content/drive/MyDrive/langchain/requirements.txt (line 8)) (2025.1.31)\n",
            "Requirement already satisfied: httpcore==1.* in /usr/local/lib/python3.11/dist-packages (from httpx<1,>=0.23.0->openai->-r /content/drive/MyDrive/langchain/requirements.txt (line 8)) (1.0.8)\n",
            "Requirement already satisfied: h11<0.15,>=0.13 in /usr/local/lib/python3.11/dist-packages (from httpcore==1.*->httpx<1,>=0.23.0->openai->-r /content/drive/MyDrive/langchain/requirements.txt (line 8)) (0.14.0)\n",
            "Requirement already satisfied: jsonpointer>=1.9 in /usr/local/lib/python3.11/dist-packages (from jsonpatch<2.0,>=1.33->langchain-core->-r /content/drive/MyDrive/langchain/requirements.txt (line 3)) (3.0.0)\n",
            "Requirement already satisfied: jsonschema-specifications>=2023.03.6 in /usr/local/lib/python3.11/dist-packages (from jsonschema>=4.19.0->chromadb->-r /content/drive/MyDrive/langchain/requirements.txt (line 32)) (2024.10.1)\n",
            "Requirement already satisfied: referencing>=0.28.4 in /usr/local/lib/python3.11/dist-packages (from jsonschema>=4.19.0->chromadb->-r /content/drive/MyDrive/langchain/requirements.txt (line 32)) (0.36.2)\n",
            "Requirement already satisfied: rpds-py>=0.7.1 in /usr/local/lib/python3.11/dist-packages (from jsonschema>=4.19.0->chromadb->-r /content/drive/MyDrive/langchain/requirements.txt (line 32)) (0.24.0)\n",
            "Requirement already satisfied: six>=1.9.0 in /usr/local/lib/python3.11/dist-packages (from kubernetes>=28.1.0->chromadb->-r /content/drive/MyDrive/langchain/requirements.txt (line 32)) (1.17.0)\n",
            "Requirement already satisfied: python-dateutil>=2.5.3 in /usr/local/lib/python3.11/dist-packages (from kubernetes>=28.1.0->chromadb->-r /content/drive/MyDrive/langchain/requirements.txt (line 32)) (2.8.2)\n",
            "Requirement already satisfied: websocket-client!=0.40.0,!=0.41.*,!=0.42.*,>=0.32.0 in /usr/local/lib/python3.11/dist-packages (from kubernetes>=28.1.0->chromadb->-r /content/drive/MyDrive/langchain/requirements.txt (line 32)) (1.8.0)\n",
            "Requirement already satisfied: requests-oauthlib in /usr/local/lib/python3.11/dist-packages (from kubernetes>=28.1.0->chromadb->-r /content/drive/MyDrive/langchain/requirements.txt (line 32)) (2.0.0)\n",
            "Requirement already satisfied: oauthlib>=3.2.2 in /usr/local/lib/python3.11/dist-packages (from kubernetes>=28.1.0->chromadb->-r /content/drive/MyDrive/langchain/requirements.txt (line 32)) (3.2.2)\n",
            "Requirement already satisfied: urllib3>=1.24.2 in /usr/local/lib/python3.11/dist-packages (from kubernetes>=28.1.0->chromadb->-r /content/drive/MyDrive/langchain/requirements.txt (line 32)) (2.3.0)\n",
            "Requirement already satisfied: durationpy>=0.7 in /usr/local/lib/python3.11/dist-packages (from kubernetes>=28.1.0->chromadb->-r /content/drive/MyDrive/langchain/requirements.txt (line 32)) (0.9)\n",
            "Requirement already satisfied: requests-toolbelt<2.0.0,>=1.0.0 in /usr/local/lib/python3.11/dist-packages (from langsmith<0.4,>=0.1.17->langchain->-r /content/drive/MyDrive/langchain/requirements.txt (line 2)) (1.0.0)\n",
            "Requirement already satisfied: zstandard<0.24.0,>=0.23.0 in /usr/local/lib/python3.11/dist-packages (from langsmith<0.4,>=0.1.17->langchain->-r /content/drive/MyDrive/langchain/requirements.txt (line 2)) (0.23.0)\n",
            "Requirement already satisfied: coloredlogs in /usr/local/lib/python3.11/dist-packages (from onnxruntime>=1.14.1->chromadb->-r /content/drive/MyDrive/langchain/requirements.txt (line 32)) (15.0.1)\n",
            "Requirement already satisfied: flatbuffers in /usr/local/lib/python3.11/dist-packages (from onnxruntime>=1.14.1->chromadb->-r /content/drive/MyDrive/langchain/requirements.txt (line 32)) (25.2.10)\n",
            "Requirement already satisfied: sympy in /usr/local/lib/python3.11/dist-packages (from onnxruntime>=1.14.1->chromadb->-r /content/drive/MyDrive/langchain/requirements.txt (line 32)) (1.13.1)\n",
            "Requirement already satisfied: deprecated>=1.2.6 in /usr/local/lib/python3.11/dist-packages (from opentelemetry-api>=1.2.0->chromadb->-r /content/drive/MyDrive/langchain/requirements.txt (line 32)) (1.2.18)\n",
            "Requirement already satisfied: importlib-metadata<8.7.0,>=6.0 in /usr/local/lib/python3.11/dist-packages (from opentelemetry-api>=1.2.0->chromadb->-r /content/drive/MyDrive/langchain/requirements.txt (line 32)) (8.6.1)\n",
            "Requirement already satisfied: opentelemetry-exporter-otlp-proto-common==1.32.1 in /usr/local/lib/python3.11/dist-packages (from opentelemetry-exporter-otlp-proto-grpc>=1.2.0->chromadb->-r /content/drive/MyDrive/langchain/requirements.txt (line 32)) (1.32.1)\n",
            "Requirement already satisfied: opentelemetry-proto==1.32.1 in /usr/local/lib/python3.11/dist-packages (from opentelemetry-exporter-otlp-proto-grpc>=1.2.0->chromadb->-r /content/drive/MyDrive/langchain/requirements.txt (line 32)) (1.32.1)\n",
            "Requirement already satisfied: opentelemetry-instrumentation-asgi==0.53b1 in /usr/local/lib/python3.11/dist-packages (from opentelemetry-instrumentation-fastapi>=0.41b0->chromadb->-r /content/drive/MyDrive/langchain/requirements.txt (line 32)) (0.53b1)\n",
            "Requirement already satisfied: opentelemetry-instrumentation==0.53b1 in /usr/local/lib/python3.11/dist-packages (from opentelemetry-instrumentation-fastapi>=0.41b0->chromadb->-r /content/drive/MyDrive/langchain/requirements.txt (line 32)) (0.53b1)\n",
            "Requirement already satisfied: opentelemetry-semantic-conventions==0.53b1 in /usr/local/lib/python3.11/dist-packages (from opentelemetry-instrumentation-fastapi>=0.41b0->chromadb->-r /content/drive/MyDrive/langchain/requirements.txt (line 32)) (0.53b1)\n",
            "Requirement already satisfied: opentelemetry-util-http==0.53b1 in /usr/local/lib/python3.11/dist-packages (from opentelemetry-instrumentation-fastapi>=0.41b0->chromadb->-r /content/drive/MyDrive/langchain/requirements.txt (line 32)) (0.53b1)\n",
            "Requirement already satisfied: wrapt<2.0.0,>=1.0.0 in /usr/local/lib/python3.11/dist-packages (from opentelemetry-instrumentation==0.53b1->opentelemetry-instrumentation-fastapi>=0.41b0->chromadb->-r /content/drive/MyDrive/langchain/requirements.txt (line 32)) (1.17.2)\n",
            "Requirement already satisfied: asgiref~=3.0 in /usr/local/lib/python3.11/dist-packages (from opentelemetry-instrumentation-asgi==0.53b1->opentelemetry-instrumentation-fastapi>=0.41b0->chromadb->-r /content/drive/MyDrive/langchain/requirements.txt (line 32)) (3.8.1)\n",
            "Requirement already satisfied: pytz>=2020.1 in /usr/local/lib/python3.11/dist-packages (from pandas<3,>=1.4.0->streamlit->-r /content/drive/MyDrive/langchain/requirements.txt (line 30)) (2025.2)\n",
            "Requirement already satisfied: tzdata>=2022.7 in /usr/local/lib/python3.11/dist-packages (from pandas<3,>=1.4.0->streamlit->-r /content/drive/MyDrive/langchain/requirements.txt (line 30)) (2025.2)\n",
            "Requirement already satisfied: monotonic>=1.5 in /usr/local/lib/python3.11/dist-packages (from posthog>=2.4.0->chromadb->-r /content/drive/MyDrive/langchain/requirements.txt (line 32)) (1.6)\n",
            "Requirement already satisfied: backoff>=1.10.0 in /usr/local/lib/python3.11/dist-packages (from posthog>=2.4.0->chromadb->-r /content/drive/MyDrive/langchain/requirements.txt (line 32)) (2.2.1)\n",
            "Requirement already satisfied: charset-normalizer<4,>=2 in /usr/local/lib/python3.11/dist-packages (from requests<3,>=2->langchain->-r /content/drive/MyDrive/langchain/requirements.txt (line 2)) (3.4.1)\n",
            "Requirement already satisfied: markdown-it-py>=2.2.0 in /usr/local/lib/python3.11/dist-packages (from rich>=10.11.0->chromadb->-r /content/drive/MyDrive/langchain/requirements.txt (line 32)) (3.0.0)\n",
            "Requirement already satisfied: pygments<3.0.0,>=2.13.0 in /usr/local/lib/python3.11/dist-packages (from rich>=10.11.0->chromadb->-r /content/drive/MyDrive/langchain/requirements.txt (line 32)) (2.18.0)\n",
            "Requirement already satisfied: greenlet>=1 in /usr/local/lib/python3.11/dist-packages (from SQLAlchemy<3,>=1.4->langchain->-r /content/drive/MyDrive/langchain/requirements.txt (line 2)) (3.2.1)\n",
            "Requirement already satisfied: networkx in /usr/local/lib/python3.11/dist-packages (from torch>=1.11.0->sentence-transformers->-r /content/drive/MyDrive/langchain/requirements.txt (line 33)) (3.4.2)\n",
            "Requirement already satisfied: nvidia-cuda-nvrtc-cu12==12.4.127 in /usr/local/lib/python3.11/dist-packages (from torch>=1.11.0->sentence-transformers->-r /content/drive/MyDrive/langchain/requirements.txt (line 33)) (12.4.127)\n",
            "Requirement already satisfied: nvidia-cuda-runtime-cu12==12.4.127 in /usr/local/lib/python3.11/dist-packages (from torch>=1.11.0->sentence-transformers->-r /content/drive/MyDrive/langchain/requirements.txt (line 33)) (12.4.127)\n",
            "Requirement already satisfied: nvidia-cuda-cupti-cu12==12.4.127 in /usr/local/lib/python3.11/dist-packages (from torch>=1.11.0->sentence-transformers->-r /content/drive/MyDrive/langchain/requirements.txt (line 33)) (12.4.127)\n",
            "Requirement already satisfied: nvidia-cudnn-cu12==9.1.0.70 in /usr/local/lib/python3.11/dist-packages (from torch>=1.11.0->sentence-transformers->-r /content/drive/MyDrive/langchain/requirements.txt (line 33)) (9.1.0.70)\n",
            "Requirement already satisfied: nvidia-cublas-cu12==12.4.5.8 in /usr/local/lib/python3.11/dist-packages (from torch>=1.11.0->sentence-transformers->-r /content/drive/MyDrive/langchain/requirements.txt (line 33)) (12.4.5.8)\n",
            "Requirement already satisfied: nvidia-cufft-cu12==11.2.1.3 in /usr/local/lib/python3.11/dist-packages (from torch>=1.11.0->sentence-transformers->-r /content/drive/MyDrive/langchain/requirements.txt (line 33)) (11.2.1.3)\n",
            "Requirement already satisfied: nvidia-curand-cu12==10.3.5.147 in /usr/local/lib/python3.11/dist-packages (from torch>=1.11.0->sentence-transformers->-r /content/drive/MyDrive/langchain/requirements.txt (line 33)) (10.3.5.147)\n",
            "Requirement already satisfied: nvidia-cusolver-cu12==11.6.1.9 in /usr/local/lib/python3.11/dist-packages (from torch>=1.11.0->sentence-transformers->-r /content/drive/MyDrive/langchain/requirements.txt (line 33)) (11.6.1.9)\n",
            "Requirement already satisfied: nvidia-cusparse-cu12==12.3.1.170 in /usr/local/lib/python3.11/dist-packages (from torch>=1.11.0->sentence-transformers->-r /content/drive/MyDrive/langchain/requirements.txt (line 33)) (12.3.1.170)\n",
            "Requirement already satisfied: nvidia-cusparselt-cu12==0.6.2 in /usr/local/lib/python3.11/dist-packages (from torch>=1.11.0->sentence-transformers->-r /content/drive/MyDrive/langchain/requirements.txt (line 33)) (0.6.2)\n",
            "Requirement already satisfied: nvidia-nccl-cu12==2.21.5 in /usr/local/lib/python3.11/dist-packages (from torch>=1.11.0->sentence-transformers->-r /content/drive/MyDrive/langchain/requirements.txt (line 33)) (2.21.5)\n",
            "Requirement already satisfied: nvidia-nvtx-cu12==12.4.127 in /usr/local/lib/python3.11/dist-packages (from torch>=1.11.0->sentence-transformers->-r /content/drive/MyDrive/langchain/requirements.txt (line 33)) (12.4.127)\n",
            "Requirement already satisfied: nvidia-nvjitlink-cu12==12.4.127 in /usr/local/lib/python3.11/dist-packages (from torch>=1.11.0->sentence-transformers->-r /content/drive/MyDrive/langchain/requirements.txt (line 33)) (12.4.127)\n",
            "Requirement already satisfied: triton==3.2.0 in /usr/local/lib/python3.11/dist-packages (from torch>=1.11.0->sentence-transformers->-r /content/drive/MyDrive/langchain/requirements.txt (line 33)) (3.2.0)\n",
            "Requirement already satisfied: mpmath<1.4,>=1.1.0 in /usr/local/lib/python3.11/dist-packages (from sympy->onnxruntime>=1.14.1->chromadb->-r /content/drive/MyDrive/langchain/requirements.txt (line 32)) (1.3.0)\n",
            "Requirement already satisfied: shellingham>=1.3.0 in /usr/local/lib/python3.11/dist-packages (from typer>=0.9.0->chromadb->-r /content/drive/MyDrive/langchain/requirements.txt (line 32)) (1.5.4)\n",
            "Requirement already satisfied: httptools>=0.6.3 in /usr/local/lib/python3.11/dist-packages (from uvicorn[standard]>=0.18.3->chromadb->-r /content/drive/MyDrive/langchain/requirements.txt (line 32)) (0.6.4)\n",
            "Requirement already satisfied: uvloop!=0.15.0,!=0.15.1,>=0.14.0 in /usr/local/lib/python3.11/dist-packages (from uvicorn[standard]>=0.18.3->chromadb->-r /content/drive/MyDrive/langchain/requirements.txt (line 32)) (0.21.0)\n",
            "Requirement already satisfied: watchfiles>=0.13 in /usr/local/lib/python3.11/dist-packages (from uvicorn[standard]>=0.18.3->chromadb->-r /content/drive/MyDrive/langchain/requirements.txt (line 32)) (1.0.5)\n",
            "Requirement already satisfied: websockets>=10.4 in /usr/local/lib/python3.11/dist-packages (from uvicorn[standard]>=0.18.3->chromadb->-r /content/drive/MyDrive/langchain/requirements.txt (line 32)) (15.0.1)\n",
            "Requirement already satisfied: httplib2<1.dev0,>=0.19.0 in /usr/local/lib/python3.11/dist-packages (from google-api-python-client->google-generativeai->-r /content/drive/MyDrive/langchain/requirements.txt (line 15)) (0.22.0)\n",
            "Requirement already satisfied: google-auth-httplib2<1.0.0,>=0.2.0 in /usr/local/lib/python3.11/dist-packages (from google-api-python-client->google-generativeai->-r /content/drive/MyDrive/langchain/requirements.txt (line 15)) (0.2.0)\n",
            "Requirement already satisfied: uritemplate<5,>=3.0.1 in /usr/local/lib/python3.11/dist-packages (from google-api-python-client->google-generativeai->-r /content/drive/MyDrive/langchain/requirements.txt (line 15)) (4.1.1)\n",
            "Requirement already satisfied: smmap<6,>=3.0.1 in /usr/local/lib/python3.11/dist-packages (from gitdb<5,>=4.0.1->gitpython!=3.1.19,<4,>=3.0.7->streamlit->-r /content/drive/MyDrive/langchain/requirements.txt (line 30)) (5.0.2)\n",
            "Requirement already satisfied: grpcio-status<2.0.dev0,>=1.33.2 in /usr/local/lib/python3.11/dist-packages (from google-api-core[grpc]!=2.0.*,!=2.1.*,!=2.10.*,!=2.2.*,!=2.3.*,!=2.4.*,!=2.5.*,!=2.6.*,!=2.7.*,!=2.8.*,!=2.9.*,<3.0.0dev,>=1.34.1->google-ai-generativelanguage==0.6.15->google-generativeai->-r /content/drive/MyDrive/langchain/requirements.txt (line 15)) (1.71.0)\n",
            "Requirement already satisfied: pyparsing!=3.0.0,!=3.0.1,!=3.0.2,!=3.0.3,<4,>=2.4.2 in /usr/local/lib/python3.11/dist-packages (from httplib2<1.dev0,>=0.19.0->google-api-python-client->google-generativeai->-r /content/drive/MyDrive/langchain/requirements.txt (line 15)) (3.2.3)\n",
            "Requirement already satisfied: zipp>=3.20 in /usr/local/lib/python3.11/dist-packages (from importlib-metadata<8.7.0,>=6.0->opentelemetry-api>=1.2.0->chromadb->-r /content/drive/MyDrive/langchain/requirements.txt (line 32)) (3.21.0)\n",
            "Requirement already satisfied: MarkupSafe>=2.0 in /usr/local/lib/python3.11/dist-packages (from jinja2->altair<6,>=4.0->streamlit->-r /content/drive/MyDrive/langchain/requirements.txt (line 30)) (3.0.2)\n",
            "Requirement already satisfied: mdurl~=0.1 in /usr/local/lib/python3.11/dist-packages (from markdown-it-py>=2.2.0->rich>=10.11.0->chromadb->-r /content/drive/MyDrive/langchain/requirements.txt (line 32)) (0.1.2)\n",
            "Requirement already satisfied: pyasn1<0.7.0,>=0.6.1 in /usr/local/lib/python3.11/dist-packages (from pyasn1-modules>=0.2.1->google-auth>=2.15.0->google-generativeai->-r /content/drive/MyDrive/langchain/requirements.txt (line 15)) (0.6.1)\n",
            "Requirement already satisfied: mypy-extensions>=0.3.0 in /usr/local/lib/python3.11/dist-packages (from typing-inspect<1,>=0.4.0->dataclasses-json<0.7,>=0.5.7->langchain-community->-r /content/drive/MyDrive/langchain/requirements.txt (line 4)) (1.1.0)\n",
            "Requirement already satisfied: humanfriendly>=9.1 in /usr/local/lib/python3.11/dist-packages (from coloredlogs->onnxruntime>=1.14.1->chromadb->-r /content/drive/MyDrive/langchain/requirements.txt (line 32)) (10.0)\n"
          ]
        }
      ]
    },
    {
      "cell_type": "code",
      "source": [
        "from dotenv import load_dotenv\n",
        "env_path = '/content/drive/MyDrive/secrets/.env'\n",
        "\n",
        "# Load environment variables\n",
        "load_dotenv(dotenv_path=env_path)"
      ],
      "metadata": {
        "colab": {
          "base_uri": "https://localhost:8080/"
        },
        "id": "7ySTnmZeDlSf",
        "outputId": "63505157-9a22-4d2e-db52-f11e9661baa2"
      },
      "execution_count": null,
      "outputs": [
        {
          "output_type": "execute_result",
          "data": {
            "text/plain": [
              "True"
            ]
          },
          "metadata": {},
          "execution_count": 4
        }
      ]
    },
    {
      "cell_type": "code",
      "source": [
        "from langchain_groq import ChatGroq\n",
        "\n",
        "model=ChatGroq(model_name=\"deepseek-r1-distill-llama-70b\")\n"
      ],
      "metadata": {
        "id": "l-bcUYLQvD3Q"
      },
      "execution_count": null,
      "outputs": []
    },
    {
      "cell_type": "code",
      "source": [
        "from langchain_community.retrievers import  WikipediaRetriever\n",
        "\n",
        "retrievers=WikipediaRetriever(top_k_results=2,model='eng')\n",
        "\n",
        "query=\"How to handle genai in future?\"\n",
        "result=retrievers.invoke(query)\n",
        "for i, doc in enumerate(result):\n",
        "    print(f\"\\n--- Result {i+1} ---\")\n",
        "    print(f\"Content:\\n{doc.page_content}...\")"
      ],
      "metadata": {
        "colab": {
          "base_uri": "https://localhost:8080/",
          "height": 110
        },
        "collapsed": true,
        "id": "6XGuy1Vxvfv5",
        "outputId": "cae5b5b7-0461-4a4d-e70d-fe6cad7e32cb"
      },
      "execution_count": null,
      "outputs": [
        {
          "output_type": "error",
          "ename": "SyntaxError",
          "evalue": "trailing comma not allowed without surrounding parentheses (<ipython-input-6-ddbf9ed4e28b>, line 1)",
          "traceback": [
            "\u001b[0;36m  File \u001b[0;32m\"<ipython-input-6-ddbf9ed4e28b>\"\u001b[0;36m, line \u001b[0;32m1\u001b[0m\n\u001b[0;31m    from langchain_community.retrievers import  WikipediaRetriever,\u001b[0m\n\u001b[0m                                                                   ^\u001b[0m\n\u001b[0;31mSyntaxError\u001b[0m\u001b[0;31m:\u001b[0m trailing comma not allowed without surrounding parentheses\n"
          ]
        }
      ]
    },
    {
      "cell_type": "code",
      "source": [
        "!pip install pypdf\n",
        "from langchain_community.document_loaders import PyPDFLoader\n",
        "from langchain.text_splitter import RecursiveCharacterTextSplitter\n",
        "from langchain_community.embeddings import HuggingFaceBgeEmbeddings\n",
        "\n",
        "\n",
        "docs=\"/content/drive/MyDrive/English-short-essay.pdf\"\n",
        "loader=PyPDFLoader(docs)\n",
        "loaded_docs=loader.load()\n",
        "text_splitter=RecursiveCharacterTextSplitter(chunk_size=1150,chunk_overlap=120)\n",
        "docs=text_splitter.split_documents(loaded_docs)\n",
        "print(docs[2].page_content)\n",
        "\n",
        "\n"
      ],
      "metadata": {
        "colab": {
          "base_uri": "https://localhost:8080/"
        },
        "id": "MGLhH1fGxBCb",
        "outputId": "1a487941-e5c4-4bf7-d592-eef1eb0ecb9f"
      },
      "execution_count": null,
      "outputs": [
        {
          "output_type": "stream",
          "name": "stdout",
          "text": [
            "Collecting pypdf\n",
            "  Downloading pypdf-5.4.0-py3-none-any.whl.metadata (7.3 kB)\n",
            "Downloading pypdf-5.4.0-py3-none-any.whl (302 kB)\n",
            "\u001b[?25l   \u001b[90m━━━━━━━━━━━━━━━━━━━━━━━━━━━━━━━━━━━━━━━━\u001b[0m \u001b[32m0.0/302.3 kB\u001b[0m \u001b[31m?\u001b[0m eta \u001b[36m-:--:--\u001b[0m\r\u001b[2K   \u001b[91m━━━━━━━━━━━━━━━━━━━━\u001b[0m\u001b[90m╺\u001b[0m\u001b[90m━━━━━━━━━━━━━━━━━━━\u001b[0m \u001b[32m153.6/302.3 kB\u001b[0m \u001b[31m4.4 MB/s\u001b[0m eta \u001b[36m0:00:01\u001b[0m\r\u001b[2K   \u001b[90m━━━━━━━━━━━━━━━━━━━━━━━━━━━━━━━━━━━━━━━━\u001b[0m \u001b[32m302.3/302.3 kB\u001b[0m \u001b[31m5.6 MB/s\u001b[0m eta \u001b[36m0:00:00\u001b[0m\n",
            "\u001b[?25hInstalling collected packages: pypdf\n",
            "Successfully installed pypdf-5.4.0\n",
            "1. Swachh Bharat Abhiyan (Clean India) \n",
            "Introduction: \n",
            "We need to clean our surrounding for good health. Swachh Bharat Abhiyan is a mission launched as a \n",
            "national campaign to maintain cleanliness. This mission was launched by government of India. \n",
            "Information about Swachh Bharat Abhiyan: \n",
            "Swachh Bharat Abhiyan is a campaign launched by our prime minister Narendra Modi. It is implemented to \n",
            "fulfil the vision and mission of clean India. This program was launched on the birth anniversary of Mahatma \n",
            "Gndhi. \n",
            "This program was started on October 2, 2014. People across the nation clean their locality and pledge to \n",
            "keep their surroundings clean and green. The basic goals behind this program is to make the country full of \n",
            "sanitation facilities and eliminate all the unhealthy practices of people in daily routines. \n",
            "Conclusion: \n",
            "Success of this campaign depends upon the mental attitude of we Indians. This program is one of the most \n",
            "important initiatives taken by the government to make India shine in the world. But what it requires is the \n",
            "active participation of each and every individual. \n",
            "Click here to watch video notes\n"
          ]
        }
      ]
    },
    {
      "cell_type": "code",
      "source": [
        "from langchain.embeddings import HuggingFaceEmbeddings\n",
        "from sentence_transformers import SentenceTransformer\n",
        "from langchain.vectorstores import Chroma\n",
        "model_drive_path=\"/content/drive/MyDrive/langchain/embedding_model/jina-embeddings-v2-base-en\"\n",
        "embedding_model = HuggingFaceEmbeddings(\n",
        "    model_name=model_drive_path,\n",
        "    model_kwargs={\"device\": \"cpu\"},\n",
        "    encode_kwargs={\"normalize_embeddings\": True}\n",
        "\n",
        ")"
      ],
      "metadata": {
        "id": "KGSa9UI3_tka",
        "colab": {
          "base_uri": "https://localhost:8080/"
        },
        "outputId": "257ca155-5385-4e01-af35-e45d3d1e718f"
      },
      "execution_count": null,
      "outputs": [
        {
          "output_type": "stream",
          "name": "stderr",
          "text": [
            "<ipython-input-14-ddb811d3f099>:5: LangChainDeprecationWarning: The class `HuggingFaceEmbeddings` was deprecated in LangChain 0.2.2 and will be removed in 1.0. An updated version of the class exists in the :class:`~langchain-huggingface package and should be used instead. To use it run `pip install -U :class:`~langchain-huggingface` and import as `from :class:`~langchain_huggingface import HuggingFaceEmbeddings``.\n",
            "  embedding_model = HuggingFaceEmbeddings(\n"
          ]
        }
      ]
    },
    {
      "cell_type": "code",
      "source": [
        "vector_store = Chroma(\n",
        "    persist_directory=\"/content/drive/MyDrive/langchain/vector_store\",\n",
        "    embedding_function=embedding_model,\n",
        "    collection_name=\"test_collection\"\n",
        ")"
      ],
      "metadata": {
        "colab": {
          "base_uri": "https://localhost:8080/"
        },
        "id": "iBtUasZtJhiz",
        "outputId": "068f2d9b-f1ef-4117-800a-818d8874df94"
      },
      "execution_count": null,
      "outputs": [
        {
          "output_type": "stream",
          "name": "stderr",
          "text": [
            "<ipython-input-15-8411173ba4ec>:1: LangChainDeprecationWarning: The class `Chroma` was deprecated in LangChain 0.2.9 and will be removed in 1.0. An updated version of the class exists in the :class:`~langchain-chroma package and should be used instead. To use it run `pip install -U :class:`~langchain-chroma` and import as `from :class:`~langchain_chroma import Chroma``.\n",
            "  vector_store = Chroma(\n"
          ]
        }
      ]
    },
    {
      "cell_type": "code",
      "source": [
        "retriever = vector_store.as_retriever(\n",
        "    search_type=\"mmr\",                   # <-- This enables MMR\n",
        "    search_kwargs={\"k\": 3, \"lambda_mult\": 1}  # k = top results, lambda_mult = relevance-diversity balance\n",
        ")\n",
        "query = \"give detail about swatch bharat abhiyan \"\n",
        "results = retriever.invoke(query)\n",
        "for i, doc in enumerate(results):\n",
        "    print(f\"\\n--- Result {i+1} ---\")\n",
        "    print(doc.page_content)"
      ],
      "metadata": {
        "colab": {
          "base_uri": "https://localhost:8080/"
        },
        "id": "bsZ4JvOnL9wr",
        "outputId": "b63653a2-aed8-4fa6-98a3-48153e5dbc95"
      },
      "execution_count": null,
      "outputs": [
        {
          "output_type": "stream",
          "name": "stderr",
          "text": [
            "BertSdpaSelfAttention is used but `torch.nn.functional.scaled_dot_product_attention` does not support non-absolute `position_embedding_type` or `output_attentions=True` or `head_mask`. Falling back to the manual attention implementation, but specifying the manual implementation will be required from Transformers version v5.0.0 onwards. This warning can be removed using the argument `attn_implementation=\"eager\"` when loading the model.\n"
          ]
        },
        {
          "output_type": "stream",
          "name": "stdout",
          "text": [
            "\n",
            "--- Result 1 ---\n",
            "1. Swachh Bharat Abhiyan (Clean India) \n",
            "Introduction: \n",
            "We need to clean our surrounding for good health. Swachh Bharat Abhiyan is a mission launched as a \n",
            "national campaign to maintain cleanliness. This mission was launched by government of India. \n",
            "Information about Swachh Bharat Abhiyan: \n",
            "Swachh Bharat Abhiyan is a campaign launched by our prime minister Narendra Modi. It is implemented to \n",
            "fulfil the vision and mission of clean India. This program was launched on the birth anniversary of Mahatma \n",
            "Gndhi. \n",
            "This program was started on October 2, 2014. People across the nation clean their locality and pledge to \n",
            "keep their surroundings clean and green. The basic goals behind this program is to make the country full of \n",
            "sanitation facilities and eliminate all the unhealthy practices of people in daily routines. \n",
            "Conclusion: \n",
            "Success of this campaign depends upon the mental attitude of we Indians. This program is one of the most \n",
            "important initiatives taken by the government to make India shine in the world. But what it requires is the \n",
            "active participation of each and every individual. \n",
            "Click here to watch video notes\n",
            "\n",
            "--- Result 2 ---\n",
            "List of important essay \n",
            "English short essay for high school and college students \n",
            "(Just click on the title of the essay given in the table and watch video.) \n",
            " \n",
            "Si.No Name of the essay \n",
            "1 Swachh Bharat Abhiyan (Clean India) \n",
            "2 Covid-19, Preventive measures and vaccination \n",
            "3 Air Pollution \n",
            "4 Beti Bachao Beti Padhao \n",
            "5 Corona Virus (COVID- 19) \n",
            "6 Computer \n",
            "7 Environmental Pollution \n",
            "8 Mobile phones \n",
            "9 Internet \n",
            "10 Population Explosion \n",
            "11 Water Pollution \n",
            "12 Newspapers \n",
            "13 Television \n",
            "14 Ban on Plastic \n",
            "15 Global Warming \n",
            "16 National Integration \n",
            "17 Online Classes \n",
            "18 Clean and Hygiene \n",
            "19 Importance of Sports \n",
            "20 Natural Disasters \n",
            "21 Importance of Yoga and meditation \n",
            "22 Role of students in promoting national integration \n",
            " \n",
            "Click here for English grammar\n",
            "\n",
            "--- Result 3 ---\n",
            "But to implement this feeling both the citizens and government should work together. It unites the people \n",
            "against social evils.  \n",
            "Click here to watch video notes \n",
            "……………………………………………………………………………………………………………………………………………………………………… \n",
            "17. Online Classes\n"
          ]
        }
      ]
    },
    {
      "cell_type": "code",
      "source": [],
      "metadata": {
        "id": "xr5HDEB6M41C"
      },
      "execution_count": null,
      "outputs": []
    }
  ]
}